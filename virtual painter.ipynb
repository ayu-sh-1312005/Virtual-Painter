{
 "cells": [
  {
   "cell_type": "code",
   "execution_count": 5,
   "id": "e682699c",
   "metadata": {},
   "outputs": [],
   "source": [
    "import cv2\n",
    "import time\n",
    "import time\n",
    "import numpy as np\n",
    "import os\n",
    "import import_ipynb"
   ]
  },
  {
   "cell_type": "code",
   "execution_count": 6,
   "id": "e45a15a9",
   "metadata": {},
   "outputs": [],
   "source": [
    "import ipynb.fs.full.HandTrackingModule as htm\n",
    "import HandTrackingModule"
   ]
  },
  {
   "cell_type": "code",
   "execution_count": null,
   "id": "c64490d0",
   "metadata": {},
   "outputs": [
    {
     "name": "stdout",
     "output_type": "stream",
     "text": [
      "(155, 1280, 3)\n",
      "(155, 1264, 3)\n",
      "(155, 1256, 3)\n",
      "(155, 1264, 3)\n"
     ]
    }
   ],
   "source": [
    "path=r\"C:\\Users\\ayush\\OneDrive\\Desktop\\1234\\header navbar\"\n",
    "lis=os.listdir(path)\n",
    "overlayList=[]\n",
    "for i in lis:\n",
    "    image=cv2.imread(path+'\\\\'+i)\n",
    "    print(image.shape)\n",
    "    overlayList.append(image)\n",
    "\n",
    "cap=cv2.VideoCapture(0)\n",
    "cap.set(3,1280)\n",
    "cap.set(4,720)\n",
    "\n",
    "detector=htm.handDetector(maxHands=1)\n",
    "header=overlayList[0]\n",
    "\n",
    "drawColor=(255,0,255)\n",
    "\n",
    "xp,yp=0,0\n",
    "thickness=15\n",
    "eraserThickness=100\n",
    "\n",
    "imgCanvas=np.zeros((720,1280,3),np.uint8)\n",
    "\n",
    "while True:\n",
    "    success,img=cap.read()\n",
    "    \n",
    "    # flip the img \n",
    "    img=cv2.flip(img,1)\n",
    "    \n",
    "    # header\n",
    "    x,y=header.shape[0],header.shape[1]\n",
    "    img[0:x,0:y]=header\n",
    "    \n",
    "    # hand tracking\n",
    "    img=detector.findHands(img)\n",
    "    lmList=detector.findPosition(img,draw=False)\n",
    "    \n",
    "   \n",
    "    if len(lmList)!=0:\n",
    "        print(lmList)\n",
    "        x1,y1=lmList[8][1],lmList[8][2]\n",
    "        x2,y2=lmList[12][1],lmList[12][2]\n",
    "    #print(dir(detector))\n",
    "    fingers=detector.countFingers()\n",
    "    # check which fingers are up\n",
    "    if len(fingers)!=0:\n",
    "        if (fingers[1] and fingers[2]):\n",
    "            xp,yp=0,0\n",
    "            cv2.rectangle(img,(x1,y2-10),(x2,y1+10),drawColor,cv2.FILLED)\n",
    "            print(\"selection mode\")\n",
    "            if y1<155:\n",
    "                if 250<x1<450:\n",
    "                    header=overlayList[0]\n",
    "                    drawColor=(255,0,255)\n",
    "                elif 550<x1<750:\n",
    "                    header=overlayList[1]\n",
    "                    drawColor=(255,0,0)\n",
    "                elif 850<x1<1050:\n",
    "                    drawColor=(0,255,0)\n",
    "                    header=overlayList[2]\n",
    "                elif 1050<x1<1350:\n",
    "                    header=overlayList[3]\n",
    "                    drawColor=(0,0,0)\n",
    "                x,y=header.shape[0],header.shape[1]\n",
    "                img[0:x,0:y]=header\n",
    "            \n",
    "        elif (fingers[1] and (not fingers[2])):\n",
    "            cv2.circle(img,(x1,y1),15,drawColor,cv2.FILLED)\n",
    "            print(\"Drawing Mode\")\n",
    "            if xp==0 and yp==0:\n",
    "                xp,yp=x1,y1\n",
    "            if drawColor==(0,0,0):\n",
    "                cv2.line(img,(xp,yp),(x1,y1),(255,255,255),eraserThickness)\n",
    "                cv2.line(imgCanvas,(xp,yp),(x1,y1),drawColor,eraserThickness)\n",
    "            else:\n",
    "                cv2.line(img,(xp,yp),(x1,y1),drawColor,thickness)\n",
    "                cv2.line(imgCanvas,(xp,yp),(x1,y1),drawColor,thickness)\n",
    "            xp,yp=x1,y1\n",
    "    imgGray=cv2.cvtColor(imgCanvas,cv2.COLOR_BGR2GRAY)\n",
    "    ret,imgInv=cv2.threshold(imgGray,50,255,cv2.THRESH_BINARY_INV)\n",
    "    imgInv=cv2.cvtColor(imgInv,cv2.COLOR_GRAY2BGR)\n",
    "    img=cv2.bitwise_and(img,imgInv)\n",
    "    img=cv2.bitwise_or(img,imgCanvas)  \n",
    "   # img=cv2.addWeighted(img,0.5,imgCanvas,0.5,0)\n",
    "    print(\"img\",img.shape)\n",
    "    print(\"imgCanvas\",imgCanvas.shape)\n",
    "    cv2.imshow(\"img\",img)\n",
    "    cv2.imshow(\"img2\",imgCanvas)\n",
    "    if cv2.waitKey(1) & 0xFF==ord('a'):\n",
    "        break\n",
    "cap.release()\n",
    "cv2.destroyAllWindows()"
   ]
  },
  {
   "cell_type": "code",
   "execution_count": null,
   "id": "6fda0b79",
   "metadata": {},
   "outputs": [],
   "source": []
  },
  {
   "cell_type": "code",
   "execution_count": null,
   "id": "7c8667a9",
   "metadata": {},
   "outputs": [],
   "source": []
  },
  {
   "cell_type": "code",
   "execution_count": null,
   "id": "58beb536",
   "metadata": {},
   "outputs": [],
   "source": []
  }
 ],
 "metadata": {
  "kernelspec": {
   "display_name": "Python 3 (ipykernel)",
   "language": "python",
   "name": "python3"
  },
  "language_info": {
   "codemirror_mode": {
    "name": "ipython",
    "version": 3
   },
   "file_extension": ".py",
   "mimetype": "text/x-python",
   "name": "python",
   "nbconvert_exporter": "python",
   "pygments_lexer": "ipython3",
   "version": "3.10.8"
  }
 },
 "nbformat": 4,
 "nbformat_minor": 5
}
